{
  "nbformat": 4,
  "nbformat_minor": 0,
  "metadata": {
    "colab": {
      "name": "BinaryTreeTransversal.ipynb",
      "private_outputs": true,
      "provenance": [],
      "authorship_tag": "ABX9TyM/7Rfsv1z7mWDnG236654h",
      "include_colab_link": true
    },
    "kernelspec": {
      "name": "python3",
      "display_name": "Python 3"
    },
    "language_info": {
      "name": "python"
    }
  },
  "cells": [
    {
      "cell_type": "markdown",
      "metadata": {
        "id": "view-in-github",
        "colab_type": "text"
      },
      "source": [
        "<a href=\"https://colab.research.google.com/github/1slewis/foobar/blob/main/BinaryTreeTransversal%20(Level%202b)/solution.ipynb\" target=\"_parent\"><img src=\"https://colab.research.google.com/assets/colab-badge.svg\" alt=\"Open In Colab\"/></a>"
      ]
    },
    {
      "cell_type": "code",
      "execution_count": null,
      "metadata": {
        "id": "bxOtBj9sgBQB"
      },
      "outputs": [],
      "source": [
        "def recursiveFunction(h, qi):\n",
        "    startNum = 0\n",
        "    for i in range(h):\n",
        "        startNum = (2 * startNum + 1)\n",
        "        if qi == startNum and h > (i + 1):\n",
        "            return (2 * startNum) + 1\n",
        "        if qi == 1 and h > (i + 1):\n",
        "            return 3\n",
        "        if qi == (startNum - 1):\n",
        "            return startNum\n",
        "        if qi < startNum:\n",
        "            add = ((startNum - 1) / 2)\n",
        "            return (add + recursiveFunction(i, qi - add)\n",
        "    return -1\n",
        "\n",
        "def solution(h, q):\n",
        "    # Your code here\n",
        "    output = []\n",
        "    for i in q:\n",
        "        output.append(int(recursiveFunction(h, i)))\n",
        "    return output\n",
        "print(solution(3, [7, 3, 5, 1])) # [-1,7,6,3]\n",
        "print(solution(5, [19, 14, 28])) # [21,15,29]"
      ]
    }
  ]
}