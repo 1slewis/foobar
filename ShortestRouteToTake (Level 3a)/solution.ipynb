{
  "nbformat": 4,
  "nbformat_minor": 0,
  "metadata": {
    "colab": {
      "name": "ShortestRouteToTake.ipynb",
      "private_outputs": true,
      "provenance": [],
      "authorship_tag": "ABX9TyMtBxcHjxsonjV0jwpErSML",
      "include_colab_link": true
    },
    "kernelspec": {
      "name": "python3",
      "display_name": "Python 3"
    },
    "language_info": {
      "name": "python"
    }
  },
  "cells": [
    {
      "cell_type": "markdown",
      "metadata": {
        "id": "view-in-github",
        "colab_type": "text"
      },
      "source": [
        "<a href=\"https://colab.research.google.com/github/1slewis/foobar/blob/main/ShortestRouteToTake%20(Level%203a)/solution.ipynb\" target=\"_parent\"><img src=\"https://colab.research.google.com/assets/colab-badge.svg\" alt=\"Open In Colab\"/></a>"
      ]
    },
    {
      "cell_type": "code",
      "execution_count": null,
      "metadata": {
        "id": "q1eWong3iY4n"
      },
      "outputs": [],
      "source": [
        "def ifXYinQueue(x,y,hasRemoved,queue):\n",
        "    for i in queue:\n",
        "        if i[\"x\"] == x and i[\"y\"] == y and i[\"hasRemoved\"] == hasRemoved:\n",
        "            return True\n",
        "    return False\n",
        "\n",
        "def solutions():\n",
        "    queue.append({\"x\": 0, \"y\": 0, \"dist\": 1, \"hasRemoved\": False})\n",
        "    i = 0\n",
        "    while len(queue) > 0:\n",
        "        x = queue[i][\"x\"]\n",
        "        y = queue[i][\"y\"]\n",
        "        dist = queue[i][\"dist\"]\n",
        "        hasRemoved = queue[i][\"hasRemoved\"]\n",
        "        if (x == len(maps[len(maps) - 1]) - 1) and (y == len(maps) - 1):\n",
        "            break\n",
        "        if y > 0 and (x < len(maps[y - 1])):\n",
        "            newY = y - 1\n",
        "            u = maps[newY][x]\n",
        "            if not(ifXYinQueue(x,newY,hasRemoved,queue)):\n",
        "                if not(u):\n",
        "                    queue.append({\"x\": x, \"y\": newY, \"dist\": dist + 1, \"hasRemoved\": hasRemoved})\n",
        "                elif not(hasRemoved):\n",
        "                    queue.append({\"x\": x, \"y\": newY, \"dist\": dist + 1, \"hasRemoved\": True})\n",
        "        if y < len(maps) - 1 and (x < len(maps[y + 1])):\n",
        "            newY = y + 1\n",
        "            d = maps[newY][x]\n",
        "            if not(ifXYinQueue(x,newY,hasRemoved,queue)):\n",
        "                if not(d):\n",
        "                    queue.append({\"x\": x, \"y\": newY, \"dist\": dist + 1, \"hasRemoved\": hasRemoved})\n",
        "                elif not(hasRemoved):\n",
        "                    queue.append({\"x\": x, \"y\": newY, \"dist\": dist + 1, \"hasRemoved\": True})\n",
        "        if x > 0:\n",
        "            newX = x - 1\n",
        "            l = maps[y][newX]\n",
        "            if not(ifXYinQueue(newX,y,hasRemoved,queue)):\n",
        "                if not(l):\n",
        "                    queue.append({\"x\": newX, \"y\": y, \"dist\": dist + 1, \"hasRemoved\": hasRemoved})\n",
        "                elif not(hasRemoved):\n",
        "                    queue.append({\"x\": newX, \"y\": y, \"dist\": dist + 1, \"hasRemoved\": True})\n",
        "        if x < len(maps[y]) - 1:\n",
        "            newX = x + 1\n",
        "            r = maps[y][newX]\n",
        "            if not(ifXYinQueue(newX,y,hasRemoved,queue)):\n",
        "                if not(r):\n",
        "                    queue.append({\"x\": newX, \"y\": y, \"dist\": dist + 1, \"hasRemoved\": hasRemoved})\n",
        "                elif not(hasRemoved):\n",
        "                    queue.append({\"x\": newX, \"y\": y, \"dist\": dist + 1, \"hasRemoved\": True})\n",
        "        i += 1\n",
        "    return dist\n",
        "\n",
        "def solution(map):\n",
        "    # Your code here\n",
        "    global maps\n",
        "    maps = map\n",
        "    global queue\n",
        "    queue = []\n",
        "    shortest = solutions()\n",
        "    return shortest\n",
        "\n",
        "print(solution([[0, 1, 1, 0], [0, 0, 0, 1], [1, 1, 0, 0], [1, 1, 1, 0]])) # 7\n",
        "print(solution([[0, 0, 0, 0, 0, 0], [1, 1, 1, 1, 1, 0], [0, 0, 0, 0, 0, 0], [0, 1, 1, 1, 1, 1], [0, 1, 1, 1, 1, 1], [0, 0, 0, 0, 0, 0]])) # 11"
      ]
    },
    {
      "cell_type": "code",
      "source": [
        ""
      ],
      "metadata": {
        "id": "4brQMZJpOM92"
      },
      "execution_count": null,
      "outputs": []
    }
  ]
}