{
  "nbformat": 4,
  "nbformat_minor": 0,
  "metadata": {
    "colab": {
      "name": "ShortestRouteToTake.ipynb",
      "private_outputs": true,
      "provenance": [],
      "authorship_tag": "ABX9TyPUdB6aCYwSV5RVj154XaeD",
      "include_colab_link": true
    },
    "kernelspec": {
      "name": "python3",
      "display_name": "Python 3"
    },
    "language_info": {
      "name": "python"
    }
  },
  "cells": [
    {
      "cell_type": "markdown",
      "metadata": {
        "id": "view-in-github",
        "colab_type": "text"
      },
      "source": [
        "<a href=\"https://colab.research.google.com/github/1slewis/foobar/blob/main/ShortestRouteToTake%20(Level%203a)/solution.ipynb\" target=\"_parent\"><img src=\"https://colab.research.google.com/assets/colab-badge.svg\" alt=\"Open In Colab\"/></a>"
      ]
    },
    {
      "cell_type": "code",
      "execution_count": null,
      "metadata": {
        "id": "88d4WxCMPXv5"
      },
      "outputs": [],
      "source": [
        "def recursiveFunction(map,x,y,history,hasRemoved):\n",
        "    output = []\n",
        "    history.append({\"x\": x, \"y\": y})\n",
        "    if (x == len(map[0]) - 1) and (y == len(map) - 1):\n",
        "        return len(history)\n",
        "    if y > 0:\n",
        "        newY = y - 1\n",
        "        u = map[newY][x]\n",
        "        if not({\"x\": x, \"y\": newY} in history):\n",
        "            if not(u):\n",
        "                output.append(recursiveFunction(map,x,newY,history.copy(),hasRemoved))\n",
        "            elif not(hasRemoved):\n",
        "                output.append(recursiveFunction(map,x,newY,history.copy(),True))\n",
        "    if y < len(map) - 1:\n",
        "        newY = y + 1\n",
        "        d = map[newY][x]\n",
        "        if not({\"x\": x, \"y\": newY} in history):\n",
        "            if not(d):\n",
        "                output.append(recursiveFunction(map,x,newY,history.copy(),hasRemoved))\n",
        "            elif not(hasRemoved):\n",
        "                output.append(recursiveFunction(map,x,newY,history.copy(),True))\n",
        "    if x < len(map[0]) - 1:\n",
        "        newX = x + 1\n",
        "        r = map[y][newX]\n",
        "        if not({\"x\": newX, \"y\": y} in history):\n",
        "            if not(r):\n",
        "                output.append(recursiveFunction(map,newX,y,history.copy(),hasRemoved))\n",
        "            elif not(hasRemoved):\n",
        "                output.append(recursiveFunction(map,newX,y,history.copy(),True))\n",
        "    if x > 0:\n",
        "        newX = x - 1\n",
        "        l = map[y][newX]\n",
        "        if not({\"x\": newX,\"y\": y} in history):\n",
        "            if not(l):\n",
        "                output.append(recursiveFunction(map,newX,y,history.copy(),hasRemoved))\n",
        "            elif not(hasRemoved):\n",
        "                output.append(recursiveFunction(map,newX,y,history.copy(),True))\n",
        "    if len(output) == 1:\n",
        "        return output[0]\n",
        "    if len(output) == 0:\n",
        "        return float('inf')\n",
        "    return output\n",
        "\n",
        "def solution(map):\n",
        "    # Your code here\n",
        "    output = recursiveFunction(map,0,0,[],False)\n",
        "    return output\n",
        "\n",
        "print(solution([[0, 1, 1, 0], [0, 0, 0, 1], [1, 1, 0, 0], [1, 1, 1, 0]])) # 7\n",
        "print(solution([[0, 0, 0, 0, 0, 0], [1, 1, 1, 1, 1, 0], [0, 0, 0, 0, 0, 0], [0, 1, 1, 1, 1, 1], [0, 1, 1, 1, 1, 1], [0, 0, 0, 0, 0, 0]])) # 11\n",
        "solution([[0,0,0,0],[0,1,1,0],[0,1,1,0],[0,0,0,0]])"
      ]
    },
    {
      "cell_type": "code",
      "source": [
        ""
      ],
      "metadata": {
        "id": "acnBF5gVovWO"
      },
      "execution_count": null,
      "outputs": []
    }
  ]
}