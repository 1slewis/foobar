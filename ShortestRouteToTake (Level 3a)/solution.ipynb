{
  "nbformat": 4,
  "nbformat_minor": 0,
  "metadata": {
    "colab": {
      "name": "ShortestRouteToTake.ipynb",
      "private_outputs": true,
      "provenance": [],
      "authorship_tag": "ABX9TyMuzER28WzZOxtOrT2FQ98U",
      "include_colab_link": true
    },
    "kernelspec": {
      "name": "python3",
      "display_name": "Python 3"
    },
    "language_info": {
      "name": "python"
    },
    "accelerator": "GPU"
  },
  "cells": [
    {
      "cell_type": "markdown",
      "metadata": {
        "id": "view-in-github",
        "colab_type": "text"
      },
      "source": [
        "<a href=\"https://colab.research.google.com/github/1slewis/foobar/blob/main/ShortestRouteToTake%20(Level%203a)/solution.ipynb\" target=\"_parent\"><img src=\"https://colab.research.google.com/assets/colab-badge.svg\" alt=\"Open In Colab\"/></a>"
      ]
    },
    {
      "cell_type": "code",
      "execution_count": null,
      "metadata": {
        "id": "88d4WxCMPXv5"
      },
      "outputs": [],
      "source": [
        "def recursiveFunctionShortest(arr,shortest):\n",
        "    for i in arr:\n",
        "        if type(i) == type(1) and i < shortest:\n",
        "            shortest = i\n",
        "        if type(i) == type([]):\n",
        "            shortest = recursiveFunctionShortest(i,shortest)\n",
        "    return shortest\n",
        "\n",
        "def recursiveFunctionRoutes(map,x,y,history,hasRemoved):\n",
        "    output = []\n",
        "    history.append({\"x\": x, \"y\": y})\n",
        "    if (x == len(map[0]) - 1) and (y == len(map) - 1):\n",
        "        return len(history)\n",
        "    if y > 0:\n",
        "        newY = y - 1\n",
        "        u = map[newY][x]\n",
        "        if not({\"x\": x, \"y\": newY} in history):\n",
        "            if not(u):\n",
        "                output.append(recursiveFunctionRoutes(map,x,newY,history.copy(),hasRemoved))\n",
        "            elif not(hasRemoved):\n",
        "                output.append(recursiveFunctionRoutes(map,x,newY,history.copy(),True))\n",
        "    if y < len(map) - 1:\n",
        "        newY = y + 1\n",
        "        d = map[newY][x]\n",
        "        if not({\"x\": x, \"y\": newY} in history):\n",
        "            if not(d):\n",
        "                output.append(recursiveFunctionRoutes(map,x,newY,history.copy(),hasRemoved))\n",
        "            elif not(hasRemoved):\n",
        "                output.append(recursiveFunctionRoutes(map,x,newY,history.copy(),True))\n",
        "    if x < len(map[0]) - 1:\n",
        "        newX = x + 1\n",
        "        r = map[y][newX]\n",
        "        if not({\"x\": newX, \"y\": y} in history):\n",
        "            if not(r):\n",
        "                output.append(recursiveFunctionRoutes(map,newX,y,history.copy(),hasRemoved))\n",
        "            elif not(hasRemoved):\n",
        "                output.append(recursiveFunctionRoutes(map,newX,y,history.copy(),True))\n",
        "    if x > 0:\n",
        "        newX = x - 1\n",
        "        l = map[y][newX]\n",
        "        if not({\"x\": newX,\"y\": y} in history):\n",
        "            if not(l):\n",
        "                output.append(recursiveFunctionRoutes(map,newX,y,history.copy(),hasRemoved))\n",
        "            elif not(hasRemoved):\n",
        "                output.append(recursiveFunctionRoutes(map,newX,y,history.copy(),True))\n",
        "    if len(output) == 1:\n",
        "        return output[0]\n",
        "    if len(output) == 0:\n",
        "        return float('inf')\n",
        "    return output\n",
        "\n",
        "def solution(map):\n",
        "    # Your code here\n",
        "    output = recursiveFunctionRoutes(map,0,0,[],False)\n",
        "    shortest = recursiveFunctionShortest(output,float('inf'))\n",
        "    return shortest\n",
        "\n",
        "print(solution([[0, 1, 1, 0], [0, 0, 0, 1], [1, 1, 0, 0], [1, 1, 1, 0]])) # 7\n",
        "print(solution([[0, 0, 0, 0, 0, 0], [1, 1, 1, 1, 1, 0], [0, 0, 0, 0, 0, 0], [0, 1, 1, 1, 1, 1], [0, 1, 1, 1, 1, 1], [0, 0, 0, 0, 0, 0]])) # 11"
      ]
    },
    {
      "cell_type": "code",
      "source": [
        "import random\n",
        "\n",
        "def testSolution(mapLength):\n",
        "    testArr = []\n",
        "    for i in range(mapLength):\n",
        "        thisArr = []\n",
        "        for j in range(mapLength):\n",
        "            if (i == mapLength - 1 and j == mapLength - 1) or (i == 0 and j == 0):\n",
        "                thisArr.append(0)\n",
        "            else:\n",
        "                thisArr.append(random.randint(0,1))\n",
        "        testArr.append(thisArr)\n",
        "    #print(testArr)\n",
        "    return solution(testArr)\n",
        "\n",
        "def loopFunc(l,myFunction,arg):\n",
        "    ret = []\n",
        "    for i in range(l):\n",
        "        ret.append(myFunction(arg))\n",
        "    return [c for c in ret if type(c) == type(1)]\n",
        "print(testSolution(1000))\n",
        "#print(len(loopFunc(10,testSolution,500)))"
      ],
      "metadata": {
        "id": "5yXlj9qkg_fD"
      },
      "execution_count": null,
      "outputs": []
    }
  ]
}