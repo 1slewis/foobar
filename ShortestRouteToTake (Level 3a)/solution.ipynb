{
  "nbformat": 4,
  "nbformat_minor": 0,
  "metadata": {
    "colab": {
      "name": "ShortestRouteToTake.ipynb",
      "private_outputs": true,
      "provenance": [],
      "collapsed_sections": [],
      "authorship_tag": "ABX9TyO8TNCpxXjd/r055Mrzegbf",
      "include_colab_link": true
    },
    "kernelspec": {
      "name": "python3",
      "display_name": "Python 3"
    },
    "language_info": {
      "name": "python"
    }
  },
  "cells": [
    {
      "cell_type": "markdown",
      "metadata": {
        "id": "view-in-github",
        "colab_type": "text"
      },
      "source": [
        "<a href=\"https://colab.research.google.com/github/1slewis/foobar/blob/main/ShortestRouteToTake%20(Level%203a)/solution.ipynb\" target=\"_parent\"><img src=\"https://colab.research.google.com/assets/colab-badge.svg\" alt=\"Open In Colab\"/></a>"
      ]
    },
    {
      "cell_type": "code",
      "execution_count": null,
      "metadata": {
        "id": "88d4WxCMPXv5"
      },
      "outputs": [],
      "source": [
        "def recursiveFunctionRoutes(x,y,history,hasRemoved):\n",
        "    history.append({\"x\": x, \"y\": y})\n",
        "    if (x == len(maps[len(maps) - 1]) - 1) and (y == len(maps) - 1):\n",
        "        outputArr.append(len(history))\n",
        "        return\n",
        "    if y > 0 and (x < len(maps[y - 1])):\n",
        "        newY = y - 1\n",
        "        u = maps[newY][x]\n",
        "        if not({\"x\": x, \"y\": newY} in history):\n",
        "            if not(u):\n",
        "                recursiveFunctionRoutes(x,newY,list(history),hasRemoved)\n",
        "            elif not(hasRemoved):\n",
        "                recursiveFunctionRoutes(x,newY,list(history),True)\n",
        "    if y < len(maps) - 1 and (x < len(maps[y + 1])):\n",
        "        newY = y + 1\n",
        "        d = maps[newY][x]\n",
        "        if not({\"x\": x, \"y\": newY} in history):\n",
        "            if not(d):\n",
        "                recursiveFunctionRoutes(x,newY,list(history),hasRemoved)\n",
        "            elif not(hasRemoved):\n",
        "                recursiveFunctionRoutes(x,newY,list(history),True)\n",
        "    if x > 0:\n",
        "        newX = x - 1\n",
        "        l = maps[y][newX]\n",
        "        if not({\"x\": newX,\"y\": y} in history):\n",
        "            if not(l):\n",
        "                recursiveFunctionRoutes(newX,y,list(history),hasRemoved)\n",
        "            elif not(hasRemoved):\n",
        "                recursiveFunctionRoutes(newX,y,list(history),True)\n",
        "    if x < len(maps[y]) - 1:\n",
        "        newX = x + 1\n",
        "        r = maps[y][newX]\n",
        "        if not({\"x\": newX, \"y\": y} in history):\n",
        "            if not(r):\n",
        "                recursiveFunctionRoutes(newX,y,list(history),hasRemoved)\n",
        "            elif not(hasRemoved):\n",
        "                recursiveFunctionRoutes(newX,y,list(history),True)\n",
        "def solution(map):\n",
        "    # Your code here\n",
        "    global maps\n",
        "    maps = map\n",
        "    global outputArr\n",
        "    outputArr = []\n",
        "    recursiveFunctionRoutes(0,0,[],False)\n",
        "    shortest = float('inf')\n",
        "    for i in outputArr:\n",
        "        if (i < shortest):\n",
        "            shortest = i\n",
        "    return shortest\n",
        "\n",
        "print(solution([[0, 1, 1, 0], [0, 0, 0, 1], [1, 1, 0, 0], [1, 1, 1, 0]])) # 7\n",
        "print(solution([[0, 0, 0, 0, 0, 0], [1, 1, 1, 1, 1, 0], [0, 0, 0, 0, 0, 0], [0, 1, 1, 1, 1, 1], [0, 1, 1, 1, 1, 1], [0, 0, 0, 0, 0, 0]])) # 11"
      ]
    },
    {
      "cell_type": "code",
      "source": [
        "print(solution([[0, 1, 1, 0], [0,1,0], [1,0,0,0], [1, 1, 0]])) # 7"
      ],
      "metadata": {
        "id": "KVNp2l-MsiYR"
      },
      "execution_count": null,
      "outputs": []
    },
    {
      "cell_type": "code",
      "source": [
        "import random\n",
        "\n",
        "def testSolution(mapLength):\n",
        "    testArr = []\n",
        "    for i in range(mapLength):\n",
        "        thisArr = []\n",
        "        for j in range(mapLength):\n",
        "            if (i == mapLength - 1 and j == mapLength - 1) or (i == 0 and j == 0):\n",
        "                thisArr.append(0)\n",
        "            else:\n",
        "                thisArr.append(random.randint(0,1))\n",
        "        testArr.append(thisArr)\n",
        "    #print(testArr)\n",
        "    return solution(testArr)\n",
        "\n",
        "def loopFunc(l,myFunction,arg):\n",
        "    ret = []\n",
        "    for i in range(l):\n",
        "        ret.append(myFunction(arg))\n",
        "    return [c for c in ret if type(c) == type(1)]\n",
        "print(testSolution(10))\n",
        "print(loopFunc(100,testSolution,10))"
      ],
      "metadata": {
        "id": "5yXlj9qkg_fD"
      },
      "execution_count": null,
      "outputs": []
    }
  ]
}