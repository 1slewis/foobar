{
  "nbformat": 4,
  "nbformat_minor": 0,
  "metadata": {
    "colab": {
      "name": "ShortestRouteToTake.ipynb",
      "private_outputs": true,
      "provenance": [],
      "authorship_tag": "ABX9TyPif9+jSA3Ev0KFfOnYEK33",
      "include_colab_link": true
    },
    "kernelspec": {
      "name": "python3",
      "display_name": "Python 3"
    },
    "language_info": {
      "name": "python"
    }
  },
  "cells": [
    {
      "cell_type": "markdown",
      "metadata": {
        "id": "view-in-github",
        "colab_type": "text"
      },
      "source": [
        "<a href=\"https://colab.research.google.com/github/1slewis/foobar/blob/main/ShortestRouteToTake%20(Level%203a)/solution.ipynb\" target=\"_parent\"><img src=\"https://colab.research.google.com/assets/colab-badge.svg\" alt=\"Open In Colab\"/></a>"
      ]
    },
    {
      "cell_type": "code",
      "execution_count": null,
      "metadata": {
        "id": "88d4WxCMPXv5"
      },
      "outputs": [],
      "source": [
        "def recursiveFunction(map,x,y,history):\n",
        "    output = []\n",
        "    history.append({\"x\": x, \"y\": y})\n",
        "    if (x == len(map[0]) - 1) and (y == len(map) - 1):\n",
        "        return history\n",
        "    if y > 0:\n",
        "        u = map[y - 1][x]\n",
        "        if not(u) and not({\"x\": x, \"y\": y-1} in history):\n",
        "            newY = y - 1\n",
        "            output.append(recursiveFunction(map,x,newY,history))\n",
        "    if y < len(map) - 1:\n",
        "        d = map[y + 1][x]\n",
        "        if not(d) and not({\"x\": x, \"y\": y+1} in history):\n",
        "            newY = y + 1\n",
        "            output.append(recursiveFunction(map,x,newY,history))\n",
        "    if x < len(map[0]) - 1:\n",
        "        r = map[y][x + 1]\n",
        "        if not(r) and not({\"x\": x+1,\"y\": y} in history):\n",
        "            newX = x + 1\n",
        "            output.append(recursiveFunction(map,newX,y,history))\n",
        "    if x > 0:\n",
        "        l = map[y][x - 1]\n",
        "        if not(l) and not({\"x\": x-1,\"y\": y} in history):\n",
        "            newX = x - 1\n",
        "            output.append(recursiveFunction(map,newX,y,history)) \n",
        "    return output\n",
        "\n",
        "def solution(map):\n",
        "    # Your code here\n",
        "    output = recursiveFunction(map,0,0,[])\n",
        "    return output\n",
        "\n",
        "print(solution([[0, 1, 1, 0], [0, 0, 0, 1], [1, 1, 0, 0], [1, 1, 1, 0]])) # 7\n",
        "print(solution([[0, 0, 0, 0, 0, 0], [1, 1, 1, 1, 1, 0], [0, 0, 0, 0, 0, 0], [0, 1, 1, 1, 1, 1], [0, 1, 1, 1, 1, 1], [0, 0, 0, 0, 0, 0]])) # 11\n",
        "solution([[0,0,0,0],[0,1,1,0],[0,1,1,0],[0,0,0,0]])"
      ]
    }
  ]
}