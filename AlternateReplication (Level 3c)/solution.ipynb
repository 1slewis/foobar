{
  "nbformat": 4,
  "nbformat_minor": 0,
  "metadata": {
    "colab": {
      "name": "AlternateReplication.ipynb",
      "private_outputs": true,
      "provenance": [],
      "authorship_tag": "ABX9TyNVx5mayfmuQ0WqRc/zF1GT",
      "include_colab_link": true
    },
    "kernelspec": {
      "name": "python3",
      "display_name": "Python 3"
    },
    "language_info": {
      "name": "python"
    }
  },
  "cells": [
    {
      "cell_type": "markdown",
      "metadata": {
        "id": "view-in-github",
        "colab_type": "text"
      },
      "source": [
        "<a href=\"https://colab.research.google.com/github/1slewis/foobar/blob/main/AlternateReplication%20(Level%203c)/solution.ipynb\" target=\"_parent\"><img src=\"https://colab.research.google.com/assets/colab-badge.svg\" alt=\"Open In Colab\"/></a>"
      ]
    },
    {
      "cell_type": "code",
      "execution_count": null,
      "metadata": {
        "id": "8AGbWAoZo3GY"
      },
      "outputs": [],
      "source": [
        "import math\n",
        "\n",
        "def skipBigDistance(big,small):\n",
        "    diff = big - small\n",
        "    amountOfSkips = math.floor(diff/small)\n",
        "    if amountOfSkips >= 1:\n",
        "        big = big - (amountOfSkips * small)\n",
        "        return amountOfSkips , big\n",
        "    else:\n",
        "        return 0 , big\n",
        "\n",
        "def getParent(big,small):\n",
        "    parentX = big - small\n",
        "    parentY = small\n",
        "    if parentX > parentY:\n",
        "        return parentX , parentY\n",
        "    if parentY > parentX:\n",
        "        return parentY , parentX\n",
        "\n",
        "def loopBackwards(big,small):\n",
        "    distance = 0\n",
        "    while True:\n",
        "        if small == 1:\n",
        "            return distance + big - 1\n",
        "        if small < 1:\n",
        "            return 'impossible'\n",
        "        \n",
        "        newDist , big = skipBigDistance(big, small)\n",
        "        distance += newDist\n",
        "        if not(newDist):\n",
        "            big, small = getParent(big,small)\n",
        "            distance += 1\n",
        "        \n",
        "        \n",
        "    return distance\n",
        "\n",
        "def solution(x, y):\n",
        "    # Your code here\n",
        "    x = int(x)\n",
        "    y = int(y)\n",
        "    if (x > y):\n",
        "        return str(loopBackwards(x,y))\n",
        "    if (x < y):\n",
        "        return str(loopBackwards(y,x))\n",
        "\n",
        "print(solution('4', '7')) # 4\n",
        "print(solution('2', '1')) # 1\n",
        "solution('21','34')"
      ]
    }
  ]
}