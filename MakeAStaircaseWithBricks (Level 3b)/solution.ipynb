{
  "nbformat": 4,
  "nbformat_minor": 0,
  "metadata": {
    "colab": {
      "name": "MakeAStaircaseWithBricks.ipynb",
      "provenance": [],
      "collapsed_sections": [],
      "authorship_tag": "ABX9TyNWJyFwUVkwb8dInaLnTCHr",
      "include_colab_link": true
    },
    "kernelspec": {
      "name": "python3",
      "display_name": "Python 3"
    },
    "language_info": {
      "name": "python"
    }
  },
  "cells": [
    {
      "cell_type": "markdown",
      "metadata": {
        "id": "view-in-github",
        "colab_type": "text"
      },
      "source": [
        "<a href=\"https://colab.research.google.com/github/1slewis/foobar/blob/main/MakeAStaircaseWithBricks%20(Level%203b)/solution.ipynb\" target=\"_parent\"><img src=\"https://colab.research.google.com/assets/colab-badge.svg\" alt=\"Open In Colab\"/></a>"
      ]
    },
    {
      "cell_type": "code",
      "execution_count": 43,
      "metadata": {
        "colab": {
          "base_uri": "https://localhost:8080/"
        },
        "id": "tvv8rb3AHmQS",
        "outputId": "6bea9b12-df84-4438-d53b-81554049809e"
      },
      "outputs": [
        {
          "output_type": "stream",
          "name": "stdout",
          "text": [
            "1\n",
            "487067745\n"
          ]
        },
        {
          "output_type": "execute_result",
          "data": {
            "text/plain": [
              "2"
            ]
          },
          "metadata": {},
          "execution_count": 43
        }
      ],
      "source": [
        "def mathFunction(n):\n",
        "    res = [1] + [0] * (n)\n",
        "    for i in range(1,n):\n",
        "        newRes = [0] * (n + 1)\n",
        "        for j in range(len(res)):\n",
        "            if j + i <= n: \n",
        "                newRes[j + i] = res[j]\n",
        "        res = [a + b for a, b in zip(res, newRes)]\n",
        "    return res[n]\n",
        "\n",
        "def solution(n):\n",
        "    # Your code here\n",
        "    result = mathFunction(n)\n",
        "    return result\n",
        "\n",
        "print(solution(3)) # 1\n",
        "print(solution(200)) # 487067745"
      ]
    }
  ]
}